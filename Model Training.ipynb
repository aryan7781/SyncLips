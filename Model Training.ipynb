{
 "cells": [
  {
   "cell_type": "code",
   "execution_count": 2,
   "id": "02f907ea-f669-46c7-adcf-7f257e663448",
   "metadata": {
    "collapsed": true,
    "jupyter": {
     "outputs_hidden": true
    },
    "tags": []
   },
   "outputs": [
    {
     "name": "stdout",
     "output_type": "stream",
     "text": [
      "Requirement already satisfied: opencv-python in d:\\youtube\\24-12-2022 - lipformer\\lips\\lib\\site-packages (4.6.0.66)\n",
      "Requirement already satisfied: matplotlib in d:\\youtube\\24-12-2022 - lipformer\\lips\\lib\\site-packages (3.6.2)\n",
      "Requirement already satisfied: imageio in d:\\youtube\\24-12-2022 - lipformer\\lips\\lib\\site-packages (2.23.0)\n",
      "Requirement already satisfied: numpy>=1.17.3 in d:\\youtube\\24-12-2022 - lipformer\\lips\\lib\\site-packages (from opencv-python) (1.24.1)\n",
      "Requirement already satisfied: contourpy>=1.0.1 in d:\\youtube\\24-12-2022 - lipformer\\lips\\lib\\site-packages (from matplotlib) (1.0.6)\n",
      "Requirement already satisfied: cycler>=0.10 in d:\\youtube\\24-12-2022 - lipformer\\lips\\lib\\site-packages (from matplotlib) (0.11.0)\n",
      "Requirement already satisfied: packaging>=20.0 in d:\\youtube\\24-12-2022 - lipformer\\lips\\lib\\site-packages (from matplotlib) (22.0)\n",
      "Requirement already satisfied: pillow>=6.2.0 in d:\\youtube\\24-12-2022 - lipformer\\lips\\lib\\site-packages (from matplotlib) (9.3.0)\n",
      "Requirement already satisfied: pyparsing>=2.2.1 in d:\\youtube\\24-12-2022 - lipformer\\lips\\lib\\site-packages (from matplotlib) (3.0.9)\n",
      "Requirement already satisfied: python-dateutil>=2.7 in d:\\youtube\\24-12-2022 - lipformer\\lips\\lib\\site-packages (from matplotlib) (2.8.2)\n",
      "Requirement already satisfied: kiwisolver>=1.0.1 in d:\\youtube\\24-12-2022 - lipformer\\lips\\lib\\site-packages (from matplotlib) (1.4.4)\n",
      "Requirement already satisfied: fonttools>=4.22.0 in d:\\youtube\\24-12-2022 - lipformer\\lips\\lib\\site-packages (from matplotlib) (4.38.0)\n",
      "Requirement already satisfied: six>=1.5 in d:\\youtube\\24-12-2022 - lipformer\\lips\\lib\\site-packages (from python-dateutil>=2.7->matplotlib) (1.16.0)\n"
     ]
    }
   ],
   "source": [
    "! pip install opencv-python matplotlib imageio"
   ]
  },
  {
   "cell_type": "code",
   "execution_count": 5,
   "id": "b24af50c-20b8-409d-ad78-30a933fdd669",
   "metadata": {
    "execution": {
     "iopub.execute_input": "2023-01-19T20:29:29.427648Z",
     "iopub.status.busy": "2023-01-19T20:29:29.427444Z",
     "iopub.status.idle": "2023-01-19T20:29:29.445968Z",
     "shell.execute_reply": "2023-01-19T20:29:29.445146Z",
     "shell.execute_reply.started": "2023-01-19T20:29:29.427629Z"
    },
    "tags": []
   },
   "outputs": [],
   "source": [
    "import os\n",
    "import cv2\n",
    "import tensorflow as tf\n",
    "import numpy as np\n",
    "from typing import List\n",
    "from matplotlib import pyplot as plt\n",
    "import imageio\n",
    "from jiwer import wer"
   ]
  },
  {
   "cell_type": "code",
   "execution_count": 7,
   "id": "8548cc59-6dfc-4acc-abc3-3e65212db02e",
   "metadata": {
    "execution": {
     "iopub.execute_input": "2023-01-19T20:29:29.609577Z",
     "iopub.status.busy": "2023-01-19T20:29:29.609403Z",
     "iopub.status.idle": "2023-01-19T20:29:29.615561Z",
     "shell.execute_reply": "2023-01-19T20:29:29.614742Z",
     "shell.execute_reply.started": "2023-01-19T20:29:29.609562Z"
    },
    "tags": []
   },
   "outputs": [],
   "source": [
    "def load_video(path:str) -> List[float]: \n",
    "    #print(path)\n",
    "    cap = cv2.VideoCapture(path)\n",
    "    frames = []\n",
    "    for _ in range(int(cap.get(cv2.CAP_PROP_FRAME_COUNT))): \n",
    "        ret, frame = cap.read()\n",
    "        frame = tf.image.rgb_to_grayscale(frame)\n",
    "        frames.append(frame[190:236,80:220,:])\n",
    "    cap.release()\n",
    "    \n",
    "    mean = tf.math.reduce_mean(frames)\n",
    "    std = tf.math.reduce_std(tf.cast(frames, tf.float32))\n",
    "    return tf.cast((frames - mean), tf.float32) / std"
   ]
  },
  {
   "cell_type": "code",
   "execution_count": 8,
   "id": "ec735e0b-ec98-4eb0-8f49-c35527d6670a",
   "metadata": {
    "execution": {
     "iopub.execute_input": "2023-01-19T20:29:29.616525Z",
     "iopub.status.busy": "2023-01-19T20:29:29.616362Z",
     "iopub.status.idle": "2023-01-19T20:29:29.620558Z",
     "shell.execute_reply": "2023-01-19T20:29:29.619844Z",
     "shell.execute_reply.started": "2023-01-19T20:29:29.616511Z"
    },
    "tags": []
   },
   "outputs": [],
   "source": [
    "vocab = [x for x in \"abcdefghijklmnopqrstuvwxyz'?!123456789 \"]"
   ]
  },
  {
   "cell_type": "code",
   "execution_count": 9,
   "id": "be04e972-d7a5-4a72-82d8-a6bdde1f3ce6",
   "metadata": {
    "execution": {
     "iopub.execute_input": "2023-01-19T20:29:29.625514Z",
     "iopub.status.busy": "2023-01-19T20:29:29.624668Z",
     "iopub.status.idle": "2023-01-19T20:29:30.374888Z",
     "shell.execute_reply": "2023-01-19T20:29:30.374105Z",
     "shell.execute_reply.started": "2023-01-19T20:29:29.625491Z"
    },
    "tags": []
   },
   "outputs": [
    {
     "name": "stdout",
     "output_type": "stream",
     "text": [
      "The vocabulary is: ['', 'a', 'b', 'c', 'd', 'e', 'f', 'g', 'h', 'i', 'j', 'k', 'l', 'm', 'n', 'o', 'p', 'q', 'r', 's', 't', 'u', 'v', 'w', 'x', 'y', 'z', \"'\", '?', '!', '1', '2', '3', '4', '5', '6', '7', '8', '9', ' '] (size =40)\n"
     ]
    }
   ],
   "source": [
    "char_to_num = tf.keras.layers.StringLookup(vocabulary=vocab, oov_token=\"\")\n",
    "# Mapping integers back to original characters\n",
    "num_to_char = tf.keras.layers.StringLookup(\n",
    "    vocabulary=char_to_num.get_vocabulary(), oov_token=\"\", invert=True\n",
    ")\n",
    "\n",
    "print(\n",
    "    f\"The vocabulary is: {char_to_num.get_vocabulary()} \"\n",
    "    f\"(size ={char_to_num.vocabulary_size()})\"\n",
    ")"
   ]
  },
  {
   "cell_type": "code",
   "execution_count": 10,
   "id": "9491bab5-6a3c-4f79-879a-8f9fbe73ae2e",
   "metadata": {
    "execution": {
     "iopub.execute_input": "2023-01-19T20:29:30.376463Z",
     "iopub.status.busy": "2023-01-19T20:29:30.376279Z",
     "iopub.status.idle": "2023-01-19T20:29:30.381084Z",
     "shell.execute_reply": "2023-01-19T20:29:30.380364Z",
     "shell.execute_reply.started": "2023-01-19T20:29:30.376441Z"
    },
    "tags": []
   },
   "outputs": [],
   "source": [
    "def load_alignments(path:str) -> List[str]: \n",
    "    #print(path)\n",
    "    with open(path, 'r') as f: \n",
    "        lines = f.readlines() \n",
    "    tokens = []\n",
    "    for line in lines:\n",
    "        line = line.split()\n",
    "        if line[2] != 'sil': \n",
    "            tokens = [*tokens,' ',line[2]]\n",
    "    return char_to_num(tf.reshape(tf.strings.unicode_split(tokens, input_encoding='UTF-8'), (-1)))[1:]"
   ]
  },
  {
   "cell_type": "code",
   "execution_count": 11,
   "id": "c4a05ac5-70b7-4831-91e5-f390a13aceaa",
   "metadata": {
    "execution": {
     "iopub.execute_input": "2023-01-19T20:29:30.383245Z",
     "iopub.status.busy": "2023-01-19T20:29:30.382672Z",
     "iopub.status.idle": "2023-01-19T20:29:30.441785Z",
     "shell.execute_reply": "2023-01-19T20:29:30.441203Z",
     "shell.execute_reply.started": "2023-01-19T20:29:30.383226Z"
    }
   },
   "outputs": [],
   "source": [
    "with open('./data/alignments/s1/bbal6n.align', 'r') as f: \n",
    "        lines = f.readlines() "
   ]
  },
  {
   "cell_type": "code",
   "execution_count": 12,
   "id": "dd01ca9f-77fb-4643-a2aa-47dd82c5d66b",
   "metadata": {
    "execution": {
     "iopub.execute_input": "2023-01-19T20:29:30.598793Z",
     "iopub.status.busy": "2023-01-19T20:29:30.597545Z",
     "iopub.status.idle": "2023-01-19T20:29:30.603292Z",
     "shell.execute_reply": "2023-01-19T20:29:30.602263Z",
     "shell.execute_reply.started": "2023-01-19T20:29:30.598773Z"
    },
    "tags": []
   },
   "outputs": [],
   "source": [
    "def load_data(path: str): \n",
    "    path = bytes.decode(path.numpy())\n",
    "    file_name = path.split('/')[-1].split('.')[0]\n",
    "    # File name splitting for windows\n",
    "    #file_name = path.split('\\\\')[-1].split('.')[0]\n",
    "    video_path = os.path.join('data','s1',f'{file_name}.mpg')\n",
    "    alignment_path = os.path.join('data','alignments','s1',f'{file_name}.align')\n",
    "    frames = load_video(video_path) \n",
    "    alignments = load_alignments(alignment_path)\n",
    "    \n",
    "    return frames, alignments"
   ]
  },
  {
   "cell_type": "code",
   "execution_count": 13,
   "id": "8cb7cc58-31ae-4904-a805-1177a82717d2",
   "metadata": {
    "execution": {
     "iopub.execute_input": "2023-01-19T20:29:31.241408Z",
     "iopub.status.busy": "2023-01-19T20:29:31.240413Z",
     "iopub.status.idle": "2023-01-19T20:29:31.245496Z",
     "shell.execute_reply": "2023-01-19T20:29:31.244647Z",
     "shell.execute_reply.started": "2023-01-19T20:29:31.241385Z"
    },
    "tags": []
   },
   "outputs": [],
   "source": [
    "test_path = './data/s1/bbal6n.mpg'"
   ]
  },
  {
   "cell_type": "code",
   "execution_count": 15,
   "id": "6871031a-b0ba-4c76-a852-f6329b0f2606",
   "metadata": {
    "execution": {
     "iopub.execute_input": "2023-01-19T20:29:33.329988Z",
     "iopub.status.busy": "2023-01-19T20:29:33.329799Z",
     "iopub.status.idle": "2023-01-19T20:29:33.334400Z",
     "shell.execute_reply": "2023-01-19T20:29:33.333039Z",
     "shell.execute_reply.started": "2023-01-19T20:29:33.329971Z"
    },
    "tags": []
   },
   "outputs": [],
   "source": [
    "def mappable_function(path:str) ->List[str]:\n",
    "    result = tf.py_function(load_data, [path], (tf.float32, tf.int64))\n",
    "    return result"
   ]
  },
  {
   "cell_type": "markdown",
   "id": "c40a7eb4-0c3e-4eab-9291-5611cb68ce08",
   "metadata": {},
   "source": [
    "# Dataloader"
   ]
  },
  {
   "cell_type": "code",
   "execution_count": 16,
   "id": "7686355d-45aa-4c85-ad9c-053e6a9b4d81",
   "metadata": {
    "execution": {
     "iopub.execute_input": "2023-01-19T20:29:33.718940Z",
     "iopub.status.busy": "2023-01-19T20:29:33.717666Z",
     "iopub.status.idle": "2023-01-19T20:29:33.722857Z",
     "shell.execute_reply": "2023-01-19T20:29:33.722173Z",
     "shell.execute_reply.started": "2023-01-19T20:29:33.718905Z"
    },
    "tags": []
   },
   "outputs": [],
   "source": [
    "from matplotlib import pyplot as plt"
   ]
  },
  {
   "cell_type": "code",
   "execution_count": 17,
   "id": "f066fea2-91b1-42ed-a67d-00566a1a53ff",
   "metadata": {
    "execution": {
     "iopub.execute_input": "2023-01-19T20:29:33.985718Z",
     "iopub.status.busy": "2023-01-19T20:29:33.984477Z",
     "iopub.status.idle": "2023-01-19T20:29:34.196421Z",
     "shell.execute_reply": "2023-01-19T20:29:34.195541Z",
     "shell.execute_reply.started": "2023-01-19T20:29:33.985693Z"
    },
    "tags": []
   },
   "outputs": [],
   "source": [
    "data = tf.data.Dataset.list_files('./data/s1/*.mpg')\n",
    "data = data.shuffle(500)\n",
    "data = data.map(mappable_function)\n",
    "data = data.padded_batch(2, padded_shapes=([75,None,None,None],[40]))\n",
    "data = data.prefetch(tf.data.AUTOTUNE)"
   ]
  },
  {
   "cell_type": "code",
   "execution_count": 18,
   "id": "5cf2d676-93a9-434c-b3c7-bdcc2577b2e7",
   "metadata": {
    "execution": {
     "iopub.execute_input": "2023-01-19T20:29:34.540342Z",
     "iopub.status.busy": "2023-01-19T20:29:34.540042Z",
     "iopub.status.idle": "2023-01-19T20:29:34.558330Z",
     "shell.execute_reply": "2023-01-19T20:29:34.557521Z",
     "shell.execute_reply.started": "2023-01-19T20:29:34.540325Z"
    },
    "tags": []
   },
   "outputs": [],
   "source": [
    "test = data.as_numpy_iterator()"
   ]
  },
  {
   "cell_type": "code",
   "execution_count": null,
   "id": "efa6cd46-7079-46c0-b45b-832f339f6cb0",
   "metadata": {
    "execution": {
     "iopub.execute_input": "2023-01-19T20:29:35.429929Z",
     "iopub.status.busy": "2023-01-19T20:29:35.428676Z",
     "iopub.status.idle": "2023-01-19T20:29:35.758965Z",
     "shell.execute_reply": "2023-01-19T20:29:35.758171Z",
     "shell.execute_reply.started": "2023-01-19T20:29:35.429899Z"
    },
    "tags": []
   },
   "outputs": [],
   "source": [
    "val = test.next(); val[0]"
   ]
  },
  {
   "cell_type": "code",
   "execution_count": 20,
   "id": "acf5eb4f-a0da-4a9a-bf24-af13e9cc2fbe",
   "metadata": {
    "execution": {
     "iopub.execute_input": "2023-01-19T20:29:36.497353Z",
     "iopub.status.busy": "2023-01-19T20:29:36.496875Z",
     "iopub.status.idle": "2023-01-19T20:29:36.501006Z",
     "shell.execute_reply": "2023-01-19T20:29:36.500283Z",
     "shell.execute_reply.started": "2023-01-19T20:29:36.497333Z"
    },
    "tags": []
   },
   "outputs": [],
   "source": [
    "#imageio.mimsave('./animation.gif', val[0][1], fps=10)"
   ]
  },
  {
   "cell_type": "code",
   "execution_count": 21,
   "id": "c33a87a2-d5e0-4ec9-b174-73ebf41bf03a",
   "metadata": {
    "execution": {
     "iopub.execute_input": "2023-01-19T20:29:37.258876Z",
     "iopub.status.busy": "2023-01-19T20:29:37.258407Z",
     "iopub.status.idle": "2023-01-19T20:29:37.355988Z",
     "shell.execute_reply": "2023-01-19T20:29:37.355385Z",
     "shell.execute_reply.started": "2023-01-19T20:29:37.258857Z"
    },
    "tags": []
   },
   "outputs": [
    {
     "data": {
      "text/plain": [
       "<matplotlib.image.AxesImage at 0x7ffa9369c190>"
      ]
     },
     "execution_count": 21,
     "metadata": {},
     "output_type": "execute_result"
    },
    {
     "data": {
      "image/png": "[encoded data removed]",
      "text/plain": [
       "<Figure size 432x288 with 1 Axes>"
      ]
     },
     "metadata": {
      "needs_background": "light"
     },
     "output_type": "display_data"
    }
   ],
   "source": [
    "plt.imshow(val[0][0][0])"
   ]
  },
  {
   "cell_type": "code",
   "execution_count": 22,
   "id": "268ca2b5-2c4f-4102-9888-989fe72e39c0",
   "metadata": {
    "execution": {
     "iopub.execute_input": "2023-01-19T20:29:39.190094Z",
     "iopub.status.busy": "2023-01-19T20:29:39.189063Z",
     "iopub.status.idle": "2023-01-19T20:29:39.196218Z",
     "shell.execute_reply": "2023-01-19T20:29:39.195274Z",
     "shell.execute_reply.started": "2023-01-19T20:29:39.190063Z"
    },
    "tags": []
   },
   "outputs": [
    {
     "data": {
      "text/plain": [
       "array([[19,  5, 20, 39, 23,  8,  9, 20,  5, 39,  1, 20, 39,  9, 39, 20,\n",
       "        23, 15, 39, 16, 12,  5,  1, 19,  5,  0,  0,  0,  0,  0,  0,  0,\n",
       "         0,  0,  0,  0,  0,  0,  0,  0],\n",
       "       [19,  5, 20, 39, 23,  8,  9, 20,  5, 39,  9, 14, 39,  2, 39,  6,\n",
       "        15, 21, 18, 39, 16, 12,  5,  1, 19,  5,  0,  0,  0,  0,  0,  0,\n",
       "         0,  0,  0,  0,  0,  0,  0,  0]])"
      ]
     },
     "execution_count": 22,
     "metadata": {},
     "output_type": "execute_result"
    }
   ],
   "source": [
    "val[1]"
   ]
  },
  {
   "cell_type": "code",
   "execution_count": 23,
   "id": "84593332-133c-4205-b7a6-8e235d5e2b3b",
   "metadata": {
    "execution": {
     "iopub.execute_input": "2023-01-19T20:29:39.856054Z",
     "iopub.status.busy": "2023-01-19T20:29:39.854737Z",
     "iopub.status.idle": "2023-01-19T20:29:39.883663Z",
     "shell.execute_reply": "2023-01-19T20:29:39.882927Z",
     "shell.execute_reply.started": "2023-01-19T20:29:39.856030Z"
    },
    "tags": []
   },
   "outputs": [
    {
     "data": {
      "text/plain": [
       "<tf.Tensor: shape=(), dtype=string, numpy=b'set white at i two please'>"
      ]
     },
     "execution_count": 23,
     "metadata": {},
     "output_type": "execute_result"
    }
   ],
   "source": [
    "tf.strings.reduce_join([num_to_char(word) for word in val[1][0]])"
   ]
  },
  {
   "cell_type": "markdown",
   "id": "0f47733c-83bc-465c-b118-b198b492ad37",
   "metadata": {},
   "source": [
    "# Build NN"
   ]
  },
  {
   "cell_type": "code",
   "execution_count": 24,
   "id": "d8e9a497-191b-4842-afbd-26f5e13c43ba",
   "metadata": {
    "execution": {
     "iopub.execute_input": "2023-01-19T20:29:41.886128Z",
     "iopub.status.busy": "2023-01-19T20:29:41.885254Z",
     "iopub.status.idle": "2023-01-19T20:29:41.892653Z",
     "shell.execute_reply": "2023-01-19T20:29:41.891787Z",
     "shell.execute_reply.started": "2023-01-19T20:29:41.886107Z"
    },
    "tags": []
   },
   "outputs": [],
   "source": [
    "import os \n",
    "from tensorflow.keras.models import Sequential \n",
    "from tensorflow.keras.layers import Conv3D, LSTM, Dense, Dropout, Bidirectional, MaxPool3D, Activation, Reshape, SpatialDropout3D, BatchNormalization, TimeDistributed, Flatten\n",
    "from tensorflow.keras.optimizers import Adam\n",
    "from tensorflow.keras.callbacks import ModelCheckpoint, LearningRateScheduler"
   ]
  },
  {
   "cell_type": "code",
   "execution_count": 25,
   "id": "f9171056-a352-491a-9ed9-92b28ced268e",
   "metadata": {
    "execution": {
     "iopub.execute_input": "2023-01-19T20:30:00.286711Z",
     "iopub.status.busy": "2023-01-19T20:30:00.286058Z",
     "iopub.status.idle": "2023-01-19T20:30:02.008968Z",
     "shell.execute_reply": "2023-01-19T20:30:02.007862Z",
     "shell.execute_reply.started": "2023-01-19T20:30:00.286690Z"
    },
    "tags": []
   },
   "outputs": [],
   "source": [
    "model = Sequential()\n",
    "#Spatial Conv\n",
    "model.add(Conv3D(128, 3, input_shape=(75,46,140,1), padding='same'))\n",
    "model.add(Activation('relu'))\n",
    "model.add(MaxPool3D((1,2,2)))\n",
    "\n",
    "model.add(Conv3D(256, 3, padding='same'))\n",
    "model.add(Activation('relu'))\n",
    "model.add(MaxPool3D((1,2,2)))\n",
    "\n",
    "model.add(Conv3D(75, 3, padding='same'))\n",
    "model.add(Activation('relu'))\n",
    "model.add(MaxPool3D((1,2,2)))\n",
    "\n",
    "model.add(TimeDistributed(Flatten()))\n",
    "#model.add(Reshape((255, -1)))\n",
    "\n",
    "model.add(Bidirectional(LSTM(128, kernel_initializer='Orthogonal', return_sequences=True)))\n",
    "model.add(Dropout(.5))\n",
    "\n",
    "model.add(Bidirectional(LSTM(128, kernel_initializer='Orthogonal', return_sequences=True)))\n",
    "model.add(Dropout(.5))\n",
    "\n",
    "model.add(Dense(char_to_num.vocabulary_size()+1, kernel_initializer='he_normal', activation='softmax'))"
   ]
  },
  {
   "cell_type": "code",
   "execution_count": 26,
   "id": "78851825-2bcd-42a9-b7f2-28bb5a6bf43a",
   "metadata": {
    "execution": {
     "iopub.execute_input": "2023-01-19T20:30:02.011426Z",
     "iopub.status.busy": "2023-01-19T20:30:02.010475Z",
     "iopub.status.idle": "2023-01-19T20:30:02.037736Z",
     "shell.execute_reply": "2023-01-19T20:30:02.036292Z",
     "shell.execute_reply.started": "2023-01-19T20:30:02.011406Z"
    },
    "tags": []
   },
   "outputs": [
    {
     "name": "stdout",
     "output_type": "stream",
     "text": [
      "Model: \"sequential\"\n",
      "_________________________________________________________________\n",
      " Layer (type)                Output Shape              Param #   \n",
      "=================================================================\n",
      " conv3d (Conv3D)             (None, 75, 46, 140, 128)  3584      \n",
      "                                                                 \n",
      " activation (Activation)     (None, 75, 46, 140, 128)  0         \n",
      "                                                                 \n",
      " max_pooling3d (MaxPooling3D  (None, 75, 23, 70, 128)  0         \n",
      " )                                                               \n",
      "                                                                 \n",
      " conv3d_1 (Conv3D)           (None, 75, 23, 70, 256)   884992    \n",
      "                                                                 \n",
      " activation_1 (Activation)   (None, 75, 23, 70, 256)   0         \n",
      "                                                                 \n",
      " max_pooling3d_1 (MaxPooling  (None, 75, 11, 35, 256)  0         \n",
      " 3D)                                                             \n",
      "                                                                 \n",
      " conv3d_2 (Conv3D)           (None, 75, 11, 35, 75)    518475    \n",
      "                                                                 \n",
      " activation_2 (Activation)   (None, 75, 11, 35, 75)    0         \n",
      "                                                                 \n",
      " max_pooling3d_2 (MaxPooling  (None, 75, 5, 17, 75)    0         \n",
      " 3D)                                                             \n",
      "                                                                 \n",
      " time_distributed (TimeDistr  (None, 75, 6375)         0         \n",
      " ibuted)                                                         \n",
      "                                                                 \n",
      " bidirectional (Bidirectiona  (None, 75, 256)          6660096   \n",
      " l)                                                              \n",
      "                                                                 \n",
      " dropout (Dropout)           (None, 75, 256)           0         \n",
      "                                                                 \n",
      " bidirectional_1 (Bidirectio  (None, 75, 256)          394240    \n",
      " nal)                                                            \n",
      "                                                                 \n",
      " dropout_1 (Dropout)         (None, 75, 256)           0         \n",
      "                                                                 \n",
      " dense (Dense)               (None, 75, 41)            10537     \n",
      "                                                                 \n",
      "=================================================================\n",
      "Total params: 8,471,924\n",
      "Trainable params: 8,471,924\n",
      "Non-trainable params: 0\n",
      "_________________________________________________________________\n"
     ]
    }
   ],
   "source": [
    "model.summary()"
   ]
  },
  {
   "cell_type": "code",
   "execution_count": 28,
   "id": "e5c2eae0-c359-41a4-97a0-75c44dccb7d1",
   "metadata": {
    "execution": {
     "iopub.execute_input": "2023-01-19T20:30:17.089256Z",
     "iopub.status.busy": "2023-01-19T20:30:17.088449Z",
     "iopub.status.idle": "2023-01-19T20:30:20.242456Z",
     "shell.execute_reply": "2023-01-19T20:30:20.241416Z",
     "shell.execute_reply.started": "2023-01-19T20:30:17.089235Z"
    },
    "tags": []
   },
   "outputs": [
    {
     "name": "stdout",
     "output_type": "stream",
     "text": [
      "1/1 [==============================] - 3s 3s/step\n"
     ]
    }
   ],
   "source": [
    "yhat = model.predict(val[0])"
   ]
  },
  {
   "cell_type": "code",
   "execution_count": 29,
   "id": "6ed47531-8317-4255-9a12-b757642258e6",
   "metadata": {
    "execution": {
     "iopub.execute_input": "2023-01-19T20:30:21.272443Z",
     "iopub.status.busy": "2023-01-19T20:30:21.271954Z",
     "iopub.status.idle": "2023-01-19T20:30:21.321071Z",
     "shell.execute_reply": "2023-01-19T20:30:21.320347Z",
     "shell.execute_reply.started": "2023-01-19T20:30:21.272423Z"
    },
    "tags": []
   },
   "outputs": [
    {
     "data": {
      "text/plain": [
       "<tf.Tensor: shape=(), dtype=string, numpy=b'lla   rreeee           eee   oo'>"
      ]
     },
     "execution_count": 29,
     "metadata": {},
     "output_type": "execute_result"
    }
   ],
   "source": [
    "tf.strings.reduce_join([num_to_char(tf.argmax(x)) for x in yhat[1]])"
   ]
  },
  {
   "cell_type": "code",
   "execution_count": 33,
   "id": "7c37b9b9-5298-4038-9c33-5031d1b457f0",
   "metadata": {
    "execution": {
     "iopub.execute_input": "2023-01-19T20:31:07.117783Z",
     "iopub.status.busy": "2023-01-19T20:31:07.116691Z",
     "iopub.status.idle": "2023-01-19T20:31:07.124634Z",
     "shell.execute_reply": "2023-01-19T20:31:07.123321Z",
     "shell.execute_reply.started": "2023-01-19T20:31:07.117758Z"
    },
    "tags": []
   },
   "outputs": [
    {
     "data": {
      "text/plain": [
       "(None, 75, 46, 140, 1)"
      ]
     },
     "execution_count": 33,
     "metadata": {},
     "output_type": "execute_result"
    }
   ],
   "source": [
    "model.input_shape"
   ]
  },
  {
   "cell_type": "code",
   "execution_count": 34,
   "id": "98b316a4-5322-4782-8e36-4b3c1a696d85",
   "metadata": {
    "execution": {
     "iopub.execute_input": "2023-01-19T20:31:07.739884Z",
     "iopub.status.busy": "2023-01-19T20:31:07.738761Z",
     "iopub.status.idle": "2023-01-19T20:31:07.746653Z",
     "shell.execute_reply": "2023-01-19T20:31:07.745273Z",
     "shell.execute_reply.started": "2023-01-19T20:31:07.739851Z"
    },
    "tags": []
   },
   "outputs": [
    {
     "data": {
      "text/plain": [
       "(None, 75, 41)"
      ]
     },
     "execution_count": 34,
     "metadata": {},
     "output_type": "execute_result"
    }
   ],
   "source": [
    "model.output_shape"
   ]
  },
  {
   "cell_type": "markdown",
   "id": "2ec02176-5c26-46c3-aff7-8352e6563c7d",
   "metadata": {},
   "source": [
    "# Setup Training Options and Train"
   ]
  },
  {
   "cell_type": "code",
   "execution_count": 35,
   "id": "ab015fd0-7fb4-4d5d-9fa2-30a05dbd515a",
   "metadata": {
    "execution": {
     "iopub.execute_input": "2023-01-19T20:31:08.799610Z",
     "iopub.status.busy": "2023-01-19T20:31:08.799256Z",
     "iopub.status.idle": "2023-01-19T20:31:08.804385Z",
     "shell.execute_reply": "2023-01-19T20:31:08.803591Z",
     "shell.execute_reply.started": "2023-01-19T20:31:08.799589Z"
    },
    "tags": []
   },
   "outputs": [],
   "source": [
    "def scheduler(epoch, lr):\n",
    "    if epoch < 30:\n",
    "        return lr\n",
    "    else:\n",
    "        return lr * tf.math.exp(-0.1)"
   ]
  },
  {
   "cell_type": "code",
   "execution_count": 36,
   "id": "c564d5c9-db54-4e88-b311-9aeab7fb3e69",
   "metadata": {
    "execution": {
     "iopub.execute_input": "2023-01-19T20:31:12.372209Z",
     "iopub.status.busy": "2023-01-19T20:31:12.371170Z",
     "iopub.status.idle": "2023-01-19T20:31:12.377287Z",
     "shell.execute_reply": "2023-01-19T20:31:12.376792Z",
     "shell.execute_reply.started": "2023-01-19T20:31:12.372186Z"
    },
    "tags": []
   },
   "outputs": [],
   "source": [
    "def CTCLoss(y_true, y_pred):\n",
    "    # Compute the training-time loss value\n",
    "    batch_len = tf.cast(tf.shape(y_true)[0], dtype=\"int64\")\n",
    "    input_length = tf.cast(tf.shape(y_pred)[1], dtype=\"int64\")\n",
    "    label_length = tf.cast(tf.shape(y_true)[1], dtype=\"int64\")\n",
    "\n",
    "    input_length = input_length * tf.ones(shape=(batch_len, 1), dtype=\"int64\")\n",
    "    label_length = label_length * tf.ones(shape=(batch_len, 1), dtype=\"int64\")\n",
    "\n",
    "    loss = tf.keras.backend.ctc_batch_cost(y_true, y_pred, input_length, label_length)\n",
    "    return loss"
   ]
  },
  {
   "cell_type": "code",
   "execution_count": 37,
   "id": "cb4f6ecb-25ef-40e2-af84-1489d0a16828",
   "metadata": {
    "execution": {
     "iopub.execute_input": "2023-01-19T20:31:12.788020Z",
     "iopub.status.busy": "2023-01-19T20:31:12.787091Z",
     "iopub.status.idle": "2023-01-19T20:31:12.792787Z",
     "shell.execute_reply": "2023-01-19T20:31:12.792263Z",
     "shell.execute_reply.started": "2023-01-19T20:31:12.787999Z"
    }
   },
   "outputs": [
    {
     "data": {
      "text/plain": [
       "array([[19,  5, 20, 39, 23,  8,  9, 20,  5, 39,  1, 20, 39,  9, 39, 20,\n",
       "        23, 15, 39, 16, 12,  5,  1, 19,  5,  0,  0,  0,  0,  0,  0,  0,\n",
       "         0,  0,  0,  0,  0,  0,  0,  0],\n",
       "       [19,  5, 20, 39, 23,  8,  9, 20,  5, 39,  9, 14, 39,  2, 39,  6,\n",
       "        15, 21, 18, 39, 16, 12,  5,  1, 19,  5,  0,  0,  0,  0,  0,  0,\n",
       "         0,  0,  0,  0,  0,  0,  0,  0]])"
      ]
     },
     "execution_count": 37,
     "metadata": {},
     "output_type": "execute_result"
    }
   ],
   "source": [
    "val[1]"
   ]
  },
  {
   "cell_type": "code",
   "execution_count": 38,
   "id": "403653f7-affa-4353-90fe-4f87f3456238",
   "metadata": {
    "execution": {
     "iopub.execute_input": "2023-01-19T20:31:13.538767Z",
     "iopub.status.busy": "2023-01-19T20:31:13.537471Z",
     "iopub.status.idle": "2023-01-19T20:31:13.608576Z",
     "shell.execute_reply": "2023-01-19T20:31:13.607799Z",
     "shell.execute_reply.started": "2023-01-19T20:31:13.538745Z"
    }
   },
   "outputs": [
    {
     "name": "stdout",
     "output_type": "stream",
     "text": [
      "1/1 [==============================] - 0s 42ms/step\n"
     ]
    },
    {
     "data": {
      "text/plain": [
       "array([[[7.57830974e-04, 7.24005699e-03, 2.22939119e-01, ...,\n",
       "         1.05527535e-04, 1.21851231e-03, 1.46388763e-03],\n",
       "        [8.98813247e-04, 2.06224352e-01, 5.44086052e-03, ...,\n",
       "         6.58392455e-05, 1.61253416e-03, 2.06495891e-03],\n",
       "        [5.81838423e-04, 2.84210712e-01, 7.84076750e-04, ...,\n",
       "         4.99463131e-05, 9.50505398e-03, 7.67203572e-04],\n",
       "        ...,\n",
       "        [9.84990418e-01, 3.98431757e-06, 1.75111541e-06, ...,\n",
       "         2.38379607e-06, 2.82273481e-06, 1.48481950e-02],\n",
       "        [9.38409474e-03, 6.39422524e-06, 5.02351031e-06, ...,\n",
       "         1.98712223e-06, 2.09418886e-06, 9.90402043e-01],\n",
       "        [9.98169541e-01, 3.30450416e-06, 1.51286326e-06, ...,\n",
       "         2.84187718e-06, 3.56529745e-06, 1.69270195e-03]],\n",
       "\n",
       "       [[7.58199021e-04, 7.33087491e-03, 2.23377004e-01, ...,\n",
       "         1.03462036e-04, 1.23698730e-03, 1.47949113e-03],\n",
       "        [8.82398861e-04, 2.07154840e-01, 5.20726806e-03, ...,\n",
       "         6.38455749e-05, 1.59725803e-03, 2.05415953e-03],\n",
       "        [5.84574533e-04, 2.81398088e-01, 7.38105446e-04, ...,\n",
       "         4.68056896e-05, 9.37752426e-03, 7.52245949e-04],\n",
       "        ...,\n",
       "        [9.84879851e-01, 3.93473556e-06, 1.69425277e-06, ...,\n",
       "         2.28398585e-06, 2.79175288e-06, 1.49627356e-02],\n",
       "        [9.25929099e-03, 6.23972937e-06, 4.93503921e-06, ...,\n",
       "         1.90669050e-06, 2.08044253e-06, 9.90529954e-01],\n",
       "        [9.98178124e-01, 3.26288000e-06, 1.49484288e-06, ...,\n",
       "         2.84051680e-06, 3.51702283e-06, 1.68444635e-03]]], dtype=float32)"
      ]
     },
     "execution_count": 38,
     "metadata": {},
     "output_type": "execute_result"
    }
   ],
   "source": [
    "model.predict(val[0])"
   ]
  },
  {
   "cell_type": "code",
   "execution_count": 39,
   "id": "e2ee7107-2313-4d9a-b0f9-3d5dd180ad95",
   "metadata": {
    "execution": {
     "iopub.execute_input": "2023-01-19T20:31:16.354365Z",
     "iopub.status.busy": "2023-01-19T20:31:16.353853Z",
     "iopub.status.idle": "2023-01-19T20:31:16.583231Z",
     "shell.execute_reply": "2023-01-19T20:31:16.582339Z",
     "shell.execute_reply.started": "2023-01-19T20:31:16.354344Z"
    },
    "tags": []
   },
   "outputs": [
    {
     "name": "stdout",
     "output_type": "stream",
     "text": [
      "1/1 [==============================] - 0s 41ms/step\n"
     ]
    },
    {
     "data": {
      "text/plain": [
       "<tf.Tensor: shape=(2, 1), dtype=float32, numpy=\n",
       "array([[51.604942],\n",
       "       [55.160603]], dtype=float32)>"
      ]
     },
     "execution_count": 39,
     "metadata": {},
     "output_type": "execute_result"
    }
   ],
   "source": [
    "CTCLoss(val[1], model.predict(val[0]))"
   ]
  },
  {
   "cell_type": "code",
   "execution_count": 237,
   "id": "61635911-ce50-499e-b9f2-dab404a3fd90",
   "metadata": {
    "execution": {
     "iopub.execute_input": "2023-01-19T03:38:35.871116Z",
     "iopub.status.busy": "2023-01-19T03:38:35.870401Z",
     "iopub.status.idle": "2023-01-19T03:38:35.873356Z",
     "shell.execute_reply": "2023-01-19T03:38:35.872968Z",
     "shell.execute_reply.started": "2023-01-19T03:38:35.871092Z"
    },
    "tags": []
   },
   "outputs": [],
   "source": [
    "# https://colab.research.google.com/github/keras-team/keras-io/blob/master/examples/audio/ipynb/ctc_asr.ipynb#scrollTo=bkMkVhgrSNKu"
   ]
  },
  {
   "cell_type": "code",
   "execution_count": 40,
   "id": "a26dc3fc-a19c-4378-bd8c-e2b597a1d15c",
   "metadata": {
    "execution": {
     "iopub.execute_input": "2023-01-19T20:31:19.279014Z",
     "iopub.status.busy": "2023-01-19T20:31:19.277678Z",
     "iopub.status.idle": "2023-01-19T20:31:19.284797Z",
     "shell.execute_reply": "2023-01-19T20:31:19.284054Z",
     "shell.execute_reply.started": "2023-01-19T20:31:19.278988Z"
    },
    "tags": []
   },
   "outputs": [],
   "source": [
    "class ProduceExample(tf.keras.callbacks.Callback): \n",
    "    def __init__(self, dataset) -> None: \n",
    "        self.dataset = dataset.as_numpy_iterator()\n",
    "    \n",
    "    def on_epoch_end(self, epoch, logs=None) -> None:\n",
    "        data = self.dataset.next()\n",
    "        yhat = self.model.predict(data[0])\n",
    "        decoded = tf.keras.backend.ctc_decode(yhat, [75,75], greedy=False)[0][0].numpy()\n",
    "        for x in range(len(yhat)):           \n",
    "            print('Original:', tf.strings.reduce_join([vocab[word] + ' ' for word in data[1][x]]).numpy().decode('utf-8'))\n",
    "            print('Prediction:', tf.strings.reduce_join([vocab[word] + ' ' for word in decoded[x] ]).numpy().decode('utf-8'))\n",
    "            print('~~~~~~~~~~~~~~~~~~~~~~~~~~~~~~~~~~~~~~~~~~~~~~~~~~~~~~~~~~')"
   ]
  },
  {
   "cell_type": "code",
   "execution_count": 41,
   "id": "ff3c7a8b-cde6-41ba-841a-a9c4255a4af2",
   "metadata": {
    "execution": {
     "iopub.execute_input": "2023-01-19T20:31:22.472561Z",
     "iopub.status.busy": "2023-01-19T20:31:22.471645Z",
     "iopub.status.idle": "2023-01-19T20:31:22.480004Z",
     "shell.execute_reply": "2023-01-19T20:31:22.479315Z",
     "shell.execute_reply.started": "2023-01-19T20:31:22.472538Z"
    },
    "tags": []
   },
   "outputs": [],
   "source": [
    "# A utility function to decode the output of the network\n",
    "def decode_batch_predictions(pred):\n",
    "    input_len = np.ones(pred.shape[0]) * pred.shape[1]\n",
    "    # Use greedy search. For complex tasks, you can use beam search\n",
    "    results = tf.keras.backend.ctc_decode(pred, input_length=input_len, greedy=True)[0][0]\n",
    "    # Iterate over the results and get back the text\n",
    "    output_text = []\n",
    "    for result in results:\n",
    "        result = tf.strings.reduce_join(num_to_char(result)).numpy().decode(\"utf-8\")\n",
    "        output_text.append(result)\n",
    "    return output_text\n",
    "\n",
    "\n",
    "# A callback class to output a few transcriptions during training\n",
    "class CallbackEval(tf.keras.callbacks.Callback):\n",
    "    \"\"\"Displays a batch of outputs after every epoch.\"\"\"\n",
    "\n",
    "    def __init__(self, dataset):\n",
    "        super().__init__()\n",
    "        self.dataset = dataset\n",
    "\n",
    "    def on_epoch_end(self, epoch: int, logs=None):\n",
    "        predictions = []\n",
    "        targets = []\n",
    "        for batch in self.dataset:\n",
    "            X, y = batch\n",
    "            batch_predictions = model.predict(X)\n",
    "            batch_predictions = decode_batch_predictions(batch_predictions)\n",
    "            predictions.extend(batch_predictions)\n",
    "            for label in y:\n",
    "                label = (\n",
    "                    tf.strings.reduce_join(num_to_char(label)).numpy().decode(\"utf-8\")\n",
    "                )\n",
    "                targets.append(label)\n",
    "        wer_score = wer(targets, predictions)\n",
    "        print(\"-\" * 100)\n",
    "        print(f\"Word Error Rate: {wer_score:.4f}\")\n",
    "        print(\"-\" * 100)\n",
    "        for i in np.random.randint(0, len(predictions), 2):\n",
    "            print(f\"Target    : {targets[i]}\")\n",
    "            print(f\"Prediction: {predictions[i]}\")\n",
    "            print(\"-\" * 100)"
   ]
  },
  {
   "cell_type": "code",
   "execution_count": 42,
   "id": "04be90d8-2482-46f9-b513-d5f4f8001c7e",
   "metadata": {
    "execution": {
     "iopub.execute_input": "2023-01-19T20:31:23.131195Z",
     "iopub.status.busy": "2023-01-19T20:31:23.130249Z",
     "iopub.status.idle": "2023-01-19T20:31:23.144474Z",
     "shell.execute_reply": "2023-01-19T20:31:23.143767Z",
     "shell.execute_reply.started": "2023-01-19T20:31:23.131172Z"
    },
    "tags": []
   },
   "outputs": [],
   "source": [
    "model.compile(optimizer=Adam(learning_rate=0.0001), loss=CTCLoss)"
   ]
  },
  {
   "cell_type": "code",
   "execution_count": 43,
   "id": "eab49367-3f1e-4464-ae76-dbd07549d97e",
   "metadata": {
    "execution": {
     "iopub.execute_input": "2023-01-19T20:31:23.997002Z",
     "iopub.status.busy": "2023-01-19T20:31:23.996397Z",
     "iopub.status.idle": "2023-01-19T20:31:24.000799Z",
     "shell.execute_reply": "2023-01-19T20:31:24.000158Z",
     "shell.execute_reply.started": "2023-01-19T20:31:23.996980Z"
    },
    "tags": []
   },
   "outputs": [],
   "source": [
    "checkpoint_callback = ModelCheckpoint(os.path.join('models','checkpoint'), monitor='loss', save_weights_only=True) "
   ]
  },
  {
   "cell_type": "code",
   "execution_count": 44,
   "id": "e085a632-d464-46ef-8777-959cad4adb2c",
   "metadata": {
    "execution": {
     "iopub.execute_input": "2023-01-19T20:31:25.465115Z",
     "iopub.status.busy": "2023-01-19T20:31:25.463834Z",
     "iopub.status.idle": "2023-01-19T20:31:25.468321Z",
     "shell.execute_reply": "2023-01-19T20:31:25.467556Z",
     "shell.execute_reply.started": "2023-01-19T20:31:25.465091Z"
    },
    "tags": []
   },
   "outputs": [],
   "source": [
    "schedule_callback = LearningRateScheduler(scheduler)"
   ]
  },
  {
   "cell_type": "code",
   "execution_count": 45,
   "id": "48eca991-90ab-4592-8a79-b50e9ca015b6",
   "metadata": {
    "execution": {
     "iopub.execute_input": "2023-01-19T20:31:25.676732Z",
     "iopub.status.busy": "2023-01-19T20:31:25.675845Z",
     "iopub.status.idle": "2023-01-19T20:31:25.681389Z",
     "shell.execute_reply": "2023-01-19T20:31:25.680634Z",
     "shell.execute_reply.started": "2023-01-19T20:31:25.676707Z"
    },
    "tags": []
   },
   "outputs": [],
   "source": [
    "example_callback = CallbackEval(data.take(1))"
   ]
  },
  {
   "cell_type": "code",
   "execution_count": null,
   "id": "8ffba483-aa61-4bbe-a15f-a73e1ddf097c",
   "metadata": {
    "execution": {
     "iopub.execute_input": "2023-01-19T20:31:36.224710Z",
     "iopub.status.busy": "2023-01-19T20:31:36.223347Z"
    },
    "tags": []
   },
   "outputs": [
    {
     "name": "stdout",
     "output_type": "stream",
     "text": [
      "Epoch 1/50\n",
      "1/1 [==============================] - 1s 1s/steps - loss: 52.28\n",
      "----------------------------------------------------------------------------------------------------\n",
      "Word Error Rate: 1.0000\n",
      "----------------------------------------------------------------------------------------------------\n",
      "Target    : set blue with h eight please\n",
      "Prediction: pla re e ao\n",
      "----------------------------------------------------------------------------------------------------\n",
      "Target    : set blue with h eight please\n",
      "Prediction: pla re e ao\n",
      "----------------------------------------------------------------------------------------------------\n",
      "499/499 [==============================] - 193s 374ms/step - loss: 52.2829 - lr: 1.0000e-04\n",
      "Epoch 2/50\n",
      "1/1 [==============================] - 0s 45ms/step- loss: 50.84\n",
      "----------------------------------------------------------------------------------------------------\n",
      "Word Error Rate: 1.0000\n",
      "----------------------------------------------------------------------------------------------------\n",
      "Target    : place white with r one again\n",
      "Prediction: pea re t ee ao\n",
      "----------------------------------------------------------------------------------------------------\n",
      "Target    : set red at h five soon\n",
      "Prediction: pla re t o o\n",
      "----------------------------------------------------------------------------------------------------\n",
      "499/499 [==============================] - 168s 337ms/step - loss: 50.8464 - lr: 1.0000e-04\n",
      "Epoch 3/50\n",
      "1/1 [==============================] - 0s 45ms/step- loss: 49.33\n",
      "----------------------------------------------------------------------------------------------------\n",
      "Word Error Rate: 1.0000\n",
      "----------------------------------------------------------------------------------------------------\n",
      "Target    : set red at h four now\n",
      "Prediction: pla bre it e a\n",
      "----------------------------------------------------------------------------------------------------\n",
      "Target    : set red at h four now\n",
      "Prediction: pla bre it e a\n",
      "----------------------------------------------------------------------------------------------------\n",
      "499/499 [==============================] - 157s 314ms/step - loss: 49.3391 - lr: 1.0000e-04\n",
      "Epoch 4/50\n",
      "1/1 [==============================] - 0s 43ms/step- loss: 47.64\n",
      "----------------------------------------------------------------------------------------------------\n",
      "Word Error Rate: 1.0000\n",
      "----------------------------------------------------------------------------------------------------\n",
      "Target    : set blue at t eight please\n",
      "Prediction: pla gree it ee oon\n",
      "----------------------------------------------------------------------------------------------------\n",
      "Target    : set blue at t eight please\n",
      "Prediction: pla gree it ee oon\n",
      "----------------------------------------------------------------------------------------------------\n",
      "499/499 [==============================] - 155s 311ms/step - loss: 47.6435 - lr: 1.0000e-04\n",
      "Epoch 5/50\n",
      "1/1 [==============================] - 0s 45ms/step- loss: 46.02\n",
      "----------------------------------------------------------------------------------------------------\n",
      "Word Error Rate: 1.0000\n",
      "----------------------------------------------------------------------------------------------------\n",
      "Target    : lay red with s zero please\n",
      "Prediction: pla re it ie lae\n",
      "----------------------------------------------------------------------------------------------------\n",
      "Target    : lay red with s zero please\n",
      "Prediction: pla re it ie lae\n",
      "----------------------------------------------------------------------------------------------------\n",
      "499/499 [==============================] - 179s 358ms/step - loss: 46.0298 - lr: 1.0000e-04\n",
      "Epoch 6/50\n",
      "1/1 [==============================] - 0s 44ms/step- loss: 44.42\n",
      "----------------------------------------------------------------------------------------------------\n",
      "Word Error Rate: 1.0000\n",
      "----------------------------------------------------------------------------------------------------\n",
      "Target    : lay blue sp at q five soon\n",
      "Prediction: pla bree i oo ooo\n",
      "----------------------------------------------------------------------------------------------------\n",
      "Target    : bin white at g six please\n",
      "Prediction: pla bree it iee an\n",
      "----------------------------------------------------------------------------------------------------\n",
      "499/499 [==============================] - 156s 312ms/step - loss: 44.4229 - lr: 1.0000e-04\n",
      "Epoch 7/50\n",
      "1/1 [==============================] - 0s 42ms/step- loss: 42.88\n",
      "----------------------------------------------------------------------------------------------------\n",
      "Word Error Rate: 1.0000\n",
      "----------------------------------------------------------------------------------------------------\n",
      "Target    : lay green with t zero now\n",
      "Prediction: la wree it o oo\n",
      "----------------------------------------------------------------------------------------------------\n",
      "Target    : place blue in b nine again\n",
      "Prediction: pla wree it ee an\n",
      "----------------------------------------------------------------------------------------------------\n",
      "499/499 [==============================] - 156s 312ms/step - loss: 42.8830 - lr: 1.0000e-04\n",
      "Epoch 8/50\n",
      "1/1 [==============================] - 0s 46ms/step- loss: 41.22\n",
      "----------------------------------------------------------------------------------------------------\n",
      "Word Error Rate: 1.0000\n",
      "----------------------------------------------------------------------------------------------------\n",
      "Target    : bin blue in l three soon\n",
      "Prediction: sla bree it o oon\n",
      "----------------------------------------------------------------------------------------------------\n",
      "Target    : place red by x three soon\n",
      "Prediction: sla wree it eoe ooo\n",
      "----------------------------------------------------------------------------------------------------\n",
      "499/499 [==============================] - 169s 338ms/step - loss: 41.2255 - lr: 1.0000e-04\n",
      "Epoch 9/50\n",
      "1/1 [==============================] - 0s 43ms/step- loss: 39.90\n",
      "----------------------------------------------------------------------------------------------------\n",
      "Word Error Rate: 1.0000\n",
      "----------------------------------------------------------------------------------------------------\n",
      "Target    : lay red at y seven again\n",
      "Prediction: plac rie it e an\n",
      "----------------------------------------------------------------------------------------------------\n",
      "Target    : lay red at y seven again\n",
      "Prediction: plac rie it e an\n",
      "----------------------------------------------------------------------------------------------------\n",
      "499/499 [==============================] - 162s 324ms/step - loss: 39.9059 - lr: 1.0000e-04\n",
      "Epoch 10/50\n",
      "1/1 [==============================] - 0s 46ms/step- loss: 38.30\n",
      "----------------------------------------------------------------------------------------------------\n",
      "Word Error Rate: 0.9167\n",
      "----------------------------------------------------------------------------------------------------\n",
      "Target    : bin green at h one soon\n",
      "Prediction: la wree it eee soon\n",
      "----------------------------------------------------------------------------------------------------\n",
      "Target    : bin green at h one soon\n",
      "Prediction: la wree it eee soon\n",
      "----------------------------------------------------------------------------------------------------\n",
      "499/499 [==============================] - 155s 310ms/step - loss: 38.3071 - lr: 1.0000e-04\n",
      "Epoch 11/50\n",
      "1/1 [==============================] - 0s 47ms/step- loss: 36.54\n",
      "----------------------------------------------------------------------------------------------------\n",
      "Word Error Rate: 0.9167\n",
      "----------------------------------------------------------------------------------------------------\n",
      "Target    : lay white by z six please\n",
      "Prediction: plac wrie it o plase\n",
      "----------------------------------------------------------------------------------------------------\n",
      "Target    : lay white by z six please\n",
      "Prediction: plac wrie it o plase\n",
      "----------------------------------------------------------------------------------------------------\n",
      "499/499 [==============================] - 155s 311ms/step - loss: 36.5450 - lr: 1.0000e-04\n",
      "Epoch 12/50\n",
      "1/1 [==============================] - 0s 47ms/step- loss: 34.71\n",
      "----------------------------------------------------------------------------------------------------\n",
      "Word Error Rate: 0.9167\n",
      "----------------------------------------------------------------------------------------------------\n",
      "Target    : set blue at a five soon\n",
      "Prediction: plac gree it nee soon\n",
      "----------------------------------------------------------------------------------------------------\n",
      "Target    : lay green in s zero please\n",
      "Prediction: plac gree it oro plase\n",
      "----------------------------------------------------------------------------------------------------\n",
      "499/499 [==============================] - 165s 330ms/step - loss: 34.7189 - lr: 1.0000e-04\n",
      "Epoch 13/50\n",
      "1/1 [==============================] - 0s 43ms/step- loss: 32.99\n",
      "----------------------------------------------------------------------------------------------------\n",
      "Word Error Rate: 0.5833\n",
      "----------------------------------------------------------------------------------------------------\n",
      "Target    : place blue by v six now\n",
      "Prediction: place blue by ei now\n",
      "----------------------------------------------------------------------------------------------------\n",
      "Target    : bin white by h one again\n",
      "Prediction: bin write it nive ain\n",
      "----------------------------------------------------------------------------------------------------\n",
      "499/499 [==============================] - 155s 310ms/step - loss: 32.9973 - lr: 1.0000e-04\n",
      "Epoch 14/50\n",
      "1/1 [==============================] - 0s 47ms/step- loss: 31.09\n",
      "----------------------------------------------------------------------------------------------------\n",
      "Word Error Rate: 0.7500\n",
      "----------------------------------------------------------------------------------------------------\n",
      "Target    : bin green by u five again\n",
      "Prediction: set green it nive again\n",
      "----------------------------------------------------------------------------------------------------\n",
      "Target    : lay blue by k seven again\n",
      "Prediction: plac blue bt e ain\n",
      "----------------------------------------------------------------------------------------------------\n",
      "499/499 [==============================] - 172s 345ms/step - loss: 31.0967 - lr: 1.0000e-04\n",
      "Epoch 15/50\n",
      "1/1 [==============================] - 0s 44ms/step- loss: 29.11\n",
      "----------------------------------------------------------------------------------------------------\n",
      "Word Error Rate: 0.9167\n",
      "----------------------------------------------------------------------------------------------------\n",
      "Target    : bin red with t five soon\n",
      "Prediction: set green it nine sooon\n",
      "----------------------------------------------------------------------------------------------------\n",
      "Target    : bin white with b zero please\n",
      "Prediction: ben whien it o please\n",
      "----------------------------------------------------------------------------------------------------\n",
      "499/499 [==============================] - 156s 312ms/step - loss: 29.1127 - lr: 1.0000e-04\n",
      "Epoch 16/50\n",
      "1/1 [==============================] - 0s 45ms/step- loss: 27.09\n",
      "----------------------------------------------------------------------------------------------------\n",
      "Word Error Rate: 0.6667\n",
      "----------------------------------------------------------------------------------------------------\n",
      "Target    : place green in d six please\n",
      "Prediction: place green it six pleas\n",
      "----------------------------------------------------------------------------------------------------\n",
      "Target    : lay blue with y six now\n",
      "Prediction: place blute it si now\n",
      "----------------------------------------------------------------------------------------------------\n",
      "499/499 [==============================] - 161s 322ms/step - loss: 27.0919 - lr: 1.0000e-04\n",
      "Epoch 17/50\n",
      "1/1 [==============================] - 0s 44ms/step- loss: 26.07\n",
      "----------------------------------------------------------------------------------------------------\n",
      "Word Error Rate: 0.5000\n",
      "----------------------------------------------------------------------------------------------------\n",
      "Target    : lay blue by y three soon\n",
      "Prediction: lay blue by tee sooon\n",
      "----------------------------------------------------------------------------------------------------\n",
      "Target    : set blue by h five again\n",
      "Prediction: bet blue by five agagain\n",
      "----------------------------------------------------------------------------------------------------\n",
      "499/499 [==============================] - 157s 315ms/step - loss: 26.0724 - lr: 1.0000e-04\n",
      "Epoch 18/50\n",
      "1/1 [==============================] - 0s 43ms/step- loss: 23.70\n",
      "----------------------------------------------------------------------------------------------------\n",
      "Word Error Rate: 0.3333\n",
      "----------------------------------------------------------------------------------------------------\n",
      "Target    : place blue by p five again\n",
      "Prediction: place blue by oive again\n",
      "----------------------------------------------------------------------------------------------------\n",
      "Target    : place blue by p three soon\n",
      "Prediction: place blue by tiree soon\n",
      "----------------------------------------------------------------------------------------------------\n",
      "499/499 [==============================] - 165s 332ms/step - loss: 23.7034 - lr: 1.0000e-04\n",
      "Epoch 19/50\n",
      "1/1 [==============================] - 0s 43ms/step- loss: 22.25\n",
      "----------------------------------------------------------------------------------------------------\n",
      "Word Error Rate: 0.4167\n",
      "----------------------------------------------------------------------------------------------------\n",
      "Target    : set green at c five again\n",
      "Prediction: set green it fiveve again\n",
      "----------------------------------------------------------------------------------------------------\n",
      "Target    : set green at c five again\n",
      "Prediction: set green it fiveve again\n",
      "----------------------------------------------------------------------------------------------------\n",
      "499/499 [==============================] - 157s 315ms/step - loss: 22.2556 - lr: 1.0000e-04\n",
      "Epoch 20/50\n",
      "1/1 [==============================] - 0s 49ms/step- loss: 21.39\n",
      "----------------------------------------------------------------------------------------------------\n",
      "Word Error Rate: 0.5833\n",
      "----------------------------------------------------------------------------------------------------\n",
      "Target    : bin blue at s two please\n",
      "Prediction: bin blue by fo please\n",
      "----------------------------------------------------------------------------------------------------\n",
      "Target    : lay red by e six now\n",
      "Prediction: lty reed by ix now\n",
      "----------------------------------------------------------------------------------------------------\n",
      "499/499 [==============================] - 174s 348ms/step - loss: 21.3999 - lr: 1.0000e-04\n",
      "Epoch 21/50\n",
      "1/1 [==============================] - 0s 43ms/step- loss: 19.79\n",
      "----------------------------------------------------------------------------------------------------\n",
      "Word Error Rate: 0.5000\n",
      "----------------------------------------------------------------------------------------------------\n",
      "Target    : set red in h one soon\n",
      "Prediction: set red it nee soon\n",
      "----------------------------------------------------------------------------------------------------\n",
      "Target    : set red in h one soon\n",
      "Prediction: set red it nee soon\n",
      "----------------------------------------------------------------------------------------------------\n",
      "499/499 [==============================] - 164s 329ms/step - loss: 19.7959 - lr: 1.0000e-04\n",
      "Epoch 22/50\n",
      "1/1 [==============================] - 0s 47ms/step- loss: 18.25\n",
      "----------------------------------------------------------------------------------------------------\n",
      "Word Error Rate: 0.5385\n",
      "----------------------------------------------------------------------------------------------------\n",
      "Target    : place blue with c nine soon\n",
      "Prediction: place blue wit sie soon\n",
      "----------------------------------------------------------------------------------------------------\n",
      "Target    : lay red sp with l five soon\n",
      "Prediction: lay reed with sivee soon\n",
      "----------------------------------------------------------------------------------------------------\n",
      "499/499 [==============================] - 156s 313ms/step - loss: 18.2556 - lr: 1.0000e-04\n",
      "Epoch 23/50\n",
      "1/1 [==============================] - 0s 42ms/step- loss: 17.36\n",
      "----------------------------------------------------------------------------------------------------\n",
      "Word Error Rate: 0.4167\n",
      "----------------------------------------------------------------------------------------------------\n",
      "Target    : set white with j one again\n",
      "Prediction: set white with oe again\n",
      "----------------------------------------------------------------------------------------------------\n",
      "Target    : set white with j one again\n",
      "Prediction: set white with oe again\n",
      "----------------------------------------------------------------------------------------------------\n",
      "499/499 [==============================] - 160s 320ms/step - loss: 17.3623 - lr: 1.0000e-04\n",
      "Epoch 24/50\n",
      "1/1 [==============================] - 0s 43ms/step- loss: 16.29\n",
      "----------------------------------------------------------------------------------------------------\n",
      "Word Error Rate: 0.5000\n",
      "----------------------------------------------------------------------------------------------------\n",
      "Target    : bin red at m four please\n",
      "Prediction: bin red it o pes\n",
      "----------------------------------------------------------------------------------------------------\n",
      "Target    : bin red at m four please\n",
      "Prediction: bin red it o pes\n",
      "----------------------------------------------------------------------------------------------------\n",
      "499/499 [==============================] - 162s 324ms/step - loss: 16.2969 - lr: 1.0000e-04\n",
      "Epoch 25/50\n",
      "1/1 [==============================] - 0s 44ms/step- loss: 16.32\n",
      "----------------------------------------------------------------------------------------------------\n",
      "Word Error Rate: 0.2500\n",
      "----------------------------------------------------------------------------------------------------\n",
      "Target    : bin red at s six now\n",
      "Prediction: bin red at six now\n",
      "----------------------------------------------------------------------------------------------------\n",
      "Target    : bin red at s six now\n",
      "Prediction: bin red at six now\n",
      "----------------------------------------------------------------------------------------------------\n",
      "499/499 [==============================] - 157s 314ms/step - loss: 16.3227 - lr: 1.0000e-04\n",
      "Epoch 26/50\n",
      "1/1 [==============================] - 0s 46ms/step- loss: 14.94\n",
      "----------------------------------------------------------------------------------------------------\n",
      "Word Error Rate: 0.2500\n",
      "----------------------------------------------------------------------------------------------------\n",
      "Target    : place blue at i seven again\n",
      "Prediction: place blue at viven again\n",
      "----------------------------------------------------------------------------------------------------\n",
      "Target    : set red in t nine soon\n",
      "Prediction: set red in n nine soon\n",
      "----------------------------------------------------------------------------------------------------\n",
      "499/499 [==============================] - 157s 314ms/step - loss: 14.9465 - lr: 1.0000e-04\n",
      "Epoch 27/50\n",
      "188/499 [==========>...................] - ETA: 1:36 - loss: 14.1479"
     ]
    }
   ],
   "source": [
    "# 16 overnight 1\n",
    "model.fit(data, epochs=50, callbacks=[checkpoint_callback, schedule_callback, example_callback])\n",
    "#model.fit(data.take(1), epochs=1, callbacks=[schedule_callback, example_callback])"
   ]
  },
  {
   "cell_type": "code",
   "execution_count": null,
   "id": "ee00abc6-fc23-46ec-b135-40f489d03bf6",
   "metadata": {
    "tags": []
   },
   "outputs": [],
   "source": [
    "len(vocab) "
   ]
  },
  {
   "cell_type": "code",
   "execution_count": null,
   "id": "7314bb19-9fe3-4d19-86cc-be3185de77f8",
   "metadata": {
    "tags": []
   },
   "outputs": [],
   "source": [
    "tf.argmax(model.predict(val[0])[0],axis=1)"
   ]
  },
  {
   "cell_type": "markdown",
   "id": "fa8ee94b-89f7-4733-8a0c-a86f86ff590a",
   "metadata": {},
   "source": [
    "# Make a Prediction "
   ]
  },
  {
   "cell_type": "code",
   "execution_count": 27,
   "id": "247f664d-3c87-4e96-946e-930dad0e1c2c",
   "metadata": {
    "execution": {
     "iopub.execute_input": "2023-01-19T20:30:02.038529Z",
     "iopub.status.busy": "2023-01-19T20:30:02.038366Z",
     "iopub.status.idle": "2023-01-19T20:30:02.326083Z",
     "shell.execute_reply": "2023-01-19T20:30:02.325245Z",
     "shell.execute_reply.started": "2023-01-19T20:30:02.038512Z"
    },
    "tags": []
   },
   "outputs": [
    {
     "data": {
      "text/plain": [
       "<tensorflow.python.training.tracking.util.CheckpointLoadStatus at 0x7ffa9324cee0>"
      ]
     },
     "execution_count": 27,
     "metadata": {},
     "output_type": "execute_result"
    }
   ],
   "source": [
    "model.load_weights('models/checkpoint')"
   ]
  },
  {
   "cell_type": "code",
   "execution_count": 100,
   "id": "7f8d689f-b7bb-443c-9b88-e40c1d800828",
   "metadata": {
    "tags": []
   },
   "outputs": [],
   "source": [
    "test_data = data.as_numpy_iterator()"
   ]
  },
  {
   "cell_type": "code",
   "execution_count": 101,
   "id": "38546dc2-bee9-4837-864b-8a884df40ad7",
   "metadata": {
    "tags": []
   },
   "outputs": [],
   "source": [
    "sample = test_data.next()"
   ]
  },
  {
   "cell_type": "code",
   "execution_count": 102,
   "id": "a43621f0-229d-4c0d-9554-9c3a3da9c61a",
   "metadata": {
    "tags": []
   },
   "outputs": [
    {
     "name": "stdout",
     "output_type": "stream",
     "text": [
      "1/1 [==============================] - 1s 545ms/step\n"
     ]
    }
   ],
   "source": [
    "yhat = model.predict(sample[0])"
   ]
  },
  {
   "cell_type": "code",
   "execution_count": 103,
   "id": "f813f982-9a8b-4c4d-99ef-1e115b228d26",
   "metadata": {
    "tags": []
   },
   "outputs": [
    {
     "data": {
      "text/plain": [
       "[<tf.Tensor: shape=(54,), dtype=string, numpy=\n",
       " array([b'f', b'j', b'sil', b'sil', b'set', b'place', b'place', b'm',\n",
       "        b'set', b'place', b'm', b'm', b'm', b'set', b'sil', b'place',\n",
       "        b'set', b'sil', b'n', b'n', b'n', b'n', b'n', b'n', b'n', b'n',\n",
       "        b'n', b'n', b'blue', b'please', b'blue', b'please', b'blue',\n",
       "        b'red', b'red', b'red', b'blue', b'in', b'blue', b'red', b'blue',\n",
       "        b'in', b'in', b'please', b'please', b'at', b'red', b'please',\n",
       "        b'in', b'blue', b'in', b'in', b'please', b'three'], dtype=object)>,\n",
       " <tf.Tensor: shape=(54,), dtype=string, numpy=\n",
       " array([b'f', b'j', b'sil', b'sil', b'set', b'place', b'place', b'm',\n",
       "        b'set', b'place', b'm', b'm', b'm', b'set', b'sil', b'place',\n",
       "        b'set', b'sil', b'n', b'n', b'n', b'n', b'n', b'n', b'n', b'n',\n",
       "        b'n', b'n', b'blue', b'please', b'blue', b'please', b'blue',\n",
       "        b'red', b'red', b'red', b'blue', b'in', b'blue', b'red', b'blue',\n",
       "        b'in', b'in', b'please', b'please', b'at', b'red', b'please',\n",
       "        b'in', b'blue', b'in', b'in', b'please', b'three'], dtype=object)>]"
      ]
     },
     "execution_count": 103,
     "metadata": {},
     "output_type": "execute_result"
    }
   ],
   "source": [
    "[num_to_char(word) for word in tf.argmax(yhat,axis=1)]"
   ]
  },
  {
   "cell_type": "code",
   "execution_count": 112,
   "id": "82bd4c10-dd6e-411e-834b-2a3b43fd12c5",
   "metadata": {
    "tags": []
   },
   "outputs": [],
   "source": [
    "decoded = tf.keras.backend.ctc_decode(yhat, input_length=[75,75], greedy=True)[0][0].numpy()"
   ]
  },
  {
   "cell_type": "code",
   "execution_count": 113,
   "id": "0be45426-d5c8-4bf1-912d-e8e9e921f9f2",
   "metadata": {
    "tags": []
   },
   "outputs": [
    {
     "data": {
      "text/plain": [
       "array([[ 1, 14,  9,  4, 12,  1,  0,  0, -1, -1, -1, -1, -1, -1, -1, -1,\n",
       "        -1, -1, -1, -1, -1, -1, -1, -1, -1, -1, -1, -1, -1, -1, -1, -1,\n",
       "        -1, -1, -1, -1, -1, -1, -1, -1, -1, -1, -1, -1, -1, -1, -1, -1,\n",
       "        -1, -1, -1, -1, -1, -1, -1, -1, -1, -1, -1, -1, -1, -1, -1, -1,\n",
       "        -1, -1, -1, -1, -1, -1, -1, -1, -1, -1, -1],\n",
       "       [ 1, 14,  9,  4, 12,  1,  0,  0, -1, -1, -1, -1, -1, -1, -1, -1,\n",
       "        -1, -1, -1, -1, -1, -1, -1, -1, -1, -1, -1, -1, -1, -1, -1, -1,\n",
       "        -1, -1, -1, -1, -1, -1, -1, -1, -1, -1, -1, -1, -1, -1, -1, -1,\n",
       "        -1, -1, -1, -1, -1, -1, -1, -1, -1, -1, -1, -1, -1, -1, -1, -1,\n",
       "        -1, -1, -1, -1, -1, -1, -1, -1, -1, -1, -1]], dtype=int64)"
      ]
     },
     "execution_count": 113,
     "metadata": {},
     "output_type": "execute_result"
    }
   ],
   "source": [
    "decoded"
   ]
  },
  {
   "cell_type": "code",
   "execution_count": 114,
   "id": "a33bbb55-3cd0-4d75-8dfd-1d358207ad0f",
   "metadata": {
    "scrolled": true,
    "tags": []
   },
   "outputs": [
    {
     "name": "stdout",
     "output_type": "stream",
     "text": [
      "[['sil' 'lay' 'blue' 'at' 'now' 'sil' '' '' 'b' 'b' 'b' 'b' 'b' 'b' 'b'\n",
      "  'b' 'b' 'b' 'b' 'b' 'b' 'b' 'b' 'b' 'b' 'b' 'b' 'b' 'b' 'b' 'b' 'b' 'b'\n",
      "  'b' 'b' 'b' 'b' 'b' 'b' 'b' 'b' 'b' 'b' 'b' 'b' 'b' 'b' 'b' 'b' 'b' 'b'\n",
      "  'b' 'b' 'b' 'b' 'b' 'b' 'b' 'b' 'b' 'b' 'b' 'b' 'b' 'b' 'b' 'b' 'b' 'b'\n",
      "  'b' 'b' 'b' 'b' 'b' 'b']\n",
      " ['sil' 'lay' 'blue' 'at' 'now' 'sil' '' '' 'b' 'b' 'b' 'b' 'b' 'b' 'b'\n",
      "  'b' 'b' 'b' 'b' 'b' 'b' 'b' 'b' 'b' 'b' 'b' 'b' 'b' 'b' 'b' 'b' 'b' 'b'\n",
      "  'b' 'b' 'b' 'b' 'b' 'b' 'b' 'b' 'b' 'b' 'b' 'b' 'b' 'b' 'b' 'b' 'b' 'b'\n",
      "  'b' 'b' 'b' 'b' 'b' 'b' 'b' 'b' 'b' 'b' 'b' 'b' 'b' 'b' 'b' 'b' 'b' 'b'\n",
      "  'b' 'b' 'b' 'b' 'b' 'b']]\n"
     ]
    }
   ],
   "source": [
    "print(np.array([[vocab[word] for word in sentence] for sentence in decoded]))"
   ]
  },
  {
   "cell_type": "code",
   "execution_count": 115,
   "id": "82e8202b-d022-4ac6-8881-825862e925cb",
   "metadata": {
    "tags": []
   },
   "outputs": [
    {
     "data": {
      "text/plain": [
       "[['sil',\n",
       "  'place',\n",
       "  'white',\n",
       "  'by',\n",
       "  'd',\n",
       "  'six',\n",
       "  'now',\n",
       "  'sil',\n",
       "  '',\n",
       "  '',\n",
       "  '',\n",
       "  '',\n",
       "  '',\n",
       "  '',\n",
       "  ''],\n",
       " ['sil',\n",
       "  'place',\n",
       "  'red',\n",
       "  'with',\n",
       "  'q',\n",
       "  'four',\n",
       "  'please',\n",
       "  'sil',\n",
       "  '',\n",
       "  '',\n",
       "  '',\n",
       "  '',\n",
       "  '',\n",
       "  '',\n",
       "  '']]"
      ]
     },
     "execution_count": 115,
     "metadata": {},
     "output_type": "execute_result"
    }
   ],
   "source": [
    "[[vocab[word] for word in sentence] for sentence in sample[1]]"
   ]
  },
  {
   "cell_type": "markdown",
   "id": "9f7be074-3170-4bf2-8b06-bd63864e85d0",
   "metadata": {
    "tags": []
   },
   "source": [
    "# Load Model"
   ]
  },
  {
   "cell_type": "code",
   "execution_count": 37,
   "id": "c9401461-4ea8-450d-8ad8-f6d05ab4b54c",
   "metadata": {},
   "outputs": [],
   "source": [
    "from itertools import groupby"
   ]
  },
  {
   "cell_type": "code",
   "execution_count": 34,
   "id": "6c7544a1-69d6-43ad-ab5e-d66dbb9b774d",
   "metadata": {},
   "outputs": [],
   "source": [
    "sentences = [[vocab[word] for word in batch] for batch in yhat.argmax(axis=-1)]\n",
    "original = [[vocab[word] for word in batch] for batch in val[1].argmax(axis=-1)]"
   ]
  },
  {
   "cell_type": "code",
   "execution_count": 39,
   "id": "1f72bb1c-0ca1-45a9-9856-a26b3799ac2e",
   "metadata": {},
   "outputs": [
    {
     "data": {
      "text/plain": [
       "['',\n",
       " 'sil',\n",
       " 'set',\n",
       " 'place',\n",
       " 'green',\n",
       " 'white',\n",
       " 'by',\n",
       " 'six',\n",
       " 'zero',\n",
       " 'soon',\n",
       " 'please',\n",
       " 'soon',\n",
       " 'please',\n",
       " 'sil']"
      ]
     },
     "execution_count": 39,
     "metadata": {},
     "output_type": "execute_result"
    }
   ],
   "source": [
    "[key for key, _group in groupby(sentences[0])]"
   ]
  },
  {
   "cell_type": "code",
   "execution_count": 40,
   "id": "118fb11c-cd26-4435-af51-c20a7e5e9546",
   "metadata": {
    "tags": []
   },
   "outputs": [
    {
     "data": {
      "text/plain": [
       "['', 'sil', 'bin', 'blue', 'at', 'f', 'three', 'soon', 'sil']"
      ]
     },
     "execution_count": 40,
     "metadata": {},
     "output_type": "execute_result"
    }
   ],
   "source": [
    "[key for key, _group in groupby(original[0])]"
   ]
  }
 ],
 "metadata": {
  "kernelspec": {
   "display_name": "Python 3 (ipykernel)",
   "language": "python",
   "name": "python3"
  },
  "language_info": {
   "codemirror_mode": {
    "name": "ipython",
    "version": 3
   },
   "file_extension": ".py",
   "mimetype": "text/x-python",
   "name": "python",
   "nbconvert_exporter": "python",
   "pygments_lexer": "ipython3",
   "version": "3.9.13"
  }
 },
 "nbformat": 4,
 "nbformat_minor": 5
}
